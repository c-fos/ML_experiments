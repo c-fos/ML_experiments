{
 "cells": [
  {
   "cell_type": "code",
   "execution_count": 5,
   "metadata": {},
   "outputs": [],
   "source": [
    "import numpy as np\n",
    "import gym\n",
    "\n",
    "from keras.models import Sequential\n",
    "from keras.layers import Dense, Activation, Flatten\n",
    "from keras.optimizers import Adam\n",
    "\n",
    "from rl.agents.dqn import DQNAgent\n",
    "from rl.policy import EpsGreedyQPolicy\n",
    "from rl.memory import SequentialMemory"
   ]
  },
  {
   "cell_type": "code",
   "execution_count": 6,
   "metadata": {},
   "outputs": [
    {
     "name": "stdout",
     "output_type": "stream",
     "text": [
      "\u001b[33mWARN: gym.spaces.Box autodetected dtype as <class 'numpy.float32'>. Please provide explicit dtype.\u001b[0m\n",
      "(1, 4)\n",
      "_________________________________________________________________\n",
      "Layer (type)                 Output Shape              Param #   \n",
      "=================================================================\n",
      "flatten_1 (Flatten)          (None, 4)                 0         \n",
      "_________________________________________________________________\n",
      "dense_1 (Dense)              (None, 16)                80        \n",
      "_________________________________________________________________\n",
      "activation_1 (Activation)    (None, 16)                0         \n",
      "_________________________________________________________________\n",
      "dense_2 (Dense)              (None, 2)                 34        \n",
      "_________________________________________________________________\n",
      "activation_2 (Activation)    (None, 2)                 0         \n",
      "=================================================================\n",
      "Total params: 114\n",
      "Trainable params: 114\n",
      "Non-trainable params: 0\n",
      "_________________________________________________________________\n",
      "None\n"
     ]
    }
   ],
   "source": [
    "ENV_NAME = 'CartPole-v0'\n",
    "\n",
    "# Get the environment and extract the number of actions available in the Cartpole problem\n",
    "env = gym.make(ENV_NAME)\n",
    "np.random.seed(123)\n",
    "env.seed(123)\n",
    "nb_actions = env.action_space.n\n",
    "\n",
    "model = Sequential()\n",
    "input_shape = (1,) + env.observation_space.shape\n",
    "print(input_shape)\n",
    "model.add(Flatten(input_shape=input_shape))\n",
    "model.add(Dense(16))\n",
    "model.add(Activation('relu'))\n",
    "model.add(Dense(nb_actions))\n",
    "model.add(Activation('linear'))\n",
    "print(model.summary())\n",
    "\n",
    "policy = EpsGreedyQPolicy()\n",
    "memory = SequentialMemory(limit=50000, window_length=1)\n",
    "dqn = DQNAgent(model=model, nb_actions=nb_actions, memory=memory, nb_steps_warmup=10,\n",
    "target_model_update=1e-2, policy=policy)\n",
    "dqn.compile(Adam(lr=1e-3), metrics=['mae'])\n"
   ]
  },
  {
   "cell_type": "code",
   "execution_count": 7,
   "metadata": {},
   "outputs": [
    {
     "name": "stdout",
     "output_type": "stream",
     "text": [
      "Training for 5000 steps ...\n"
     ]
    },
    {
     "name": "stderr",
     "output_type": "stream",
     "text": [
      "/home/pilat/git/ML_experiments/rl_aquarium/venv/lib64/python3.6/site-packages/rl/memory.py:29: UserWarning: Not enough entries to sample without replacement. Consider increasing your warm-up phase to avoid oversampling!\n",
      "  warnings.warn('Not enough entries to sample without replacement. Consider increasing your warm-up phase to avoid oversampling!')\n"
     ]
    },
    {
     "name": "stdout",
     "output_type": "stream",
     "text": [
      "   79/5000: episode: 1, duration: 2.406s, episode steps: 79, steps per second: 33, episode reward: 79.000, mean reward: 1.000 [1.000, 1.000], mean action: 0.519 [0.000, 1.000], mean observation: 0.060 [-0.402, 0.722], loss: 0.427375, mean_absolute_error: 0.495651, mean_q: 0.053356\n",
      "  113/5000: episode: 2, duration: 0.583s, episode steps: 34, steps per second: 58, episode reward: 34.000, mean reward: 1.000 [1.000, 1.000], mean action: 0.529 [0.000, 1.000], mean observation: 0.151 [-0.159, 0.753], loss: 0.350887, mean_absolute_error: 0.444512, mean_q: 0.194190\n",
      "  163/5000: episode: 3, duration: 0.882s, episode steps: 50, steps per second: 57, episode reward: 50.000, mean reward: 1.000 [1.000, 1.000], mean action: 0.520 [0.000, 1.000], mean observation: 0.082 [-0.295, 0.778], loss: 0.314964, mean_absolute_error: 0.465016, mean_q: 0.319203\n",
      "  197/5000: episode: 4, duration: 0.565s, episode steps: 34, steps per second: 60, episode reward: 34.000, mean reward: 1.000 [1.000, 1.000], mean action: 0.529 [0.000, 1.000], mean observation: 0.081 [-0.228, 0.770], loss: 0.273797, mean_absolute_error: 0.496382, mean_q: 0.470427\n",
      "  261/5000: episode: 5, duration: 1.066s, episode steps: 64, steps per second: 60, episode reward: 64.000, mean reward: 1.000 [1.000, 1.000], mean action: 0.500 [0.000, 1.000], mean observation: 0.004 [-0.394, 0.861], loss: 0.233362, mean_absolute_error: 0.559276, mean_q: 0.675654\n",
      "  295/5000: episode: 6, duration: 0.566s, episode steps: 34, steps per second: 60, episode reward: 34.000, mean reward: 1.000 [1.000, 1.000], mean action: 0.500 [0.000, 1.000], mean observation: 0.093 [-0.207, 0.836], loss: 0.176456, mean_absolute_error: 0.632583, mean_q: 0.935171\n",
      "  328/5000: episode: 7, duration: 0.549s, episode steps: 33, steps per second: 60, episode reward: 33.000, mean reward: 1.000 [1.000, 1.000], mean action: 0.515 [0.000, 1.000], mean observation: 0.076 [-0.348, 0.908], loss: 0.149742, mean_absolute_error: 0.712350, mean_q: 1.136332\n",
      "  354/5000: episode: 8, duration: 0.433s, episode steps: 26, steps per second: 60, episode reward: 26.000, mean reward: 1.000 [1.000, 1.000], mean action: 0.500 [0.000, 1.000], mean observation: 0.089 [-0.396, 0.810], loss: 0.114366, mean_absolute_error: 0.780538, mean_q: 1.346571\n",
      "  375/5000: episode: 9, duration: 0.349s, episode steps: 21, steps per second: 60, episode reward: 21.000, mean reward: 1.000 [1.000, 1.000], mean action: 0.476 [0.000, 1.000], mean observation: 0.110 [-0.542, 0.947], loss: 0.095132, mean_absolute_error: 0.846791, mean_q: 1.529586\n",
      "  391/5000: episode: 10, duration: 0.266s, episode steps: 16, steps per second: 60, episode reward: 16.000, mean reward: 1.000 [1.000, 1.000], mean action: 0.500 [0.000, 1.000], mean observation: 0.088 [-0.609, 1.077], loss: 0.082100, mean_absolute_error: 0.884739, mean_q: 1.674904\n",
      "  415/5000: episode: 11, duration: 0.417s, episode steps: 24, steps per second: 58, episode reward: 24.000, mean reward: 1.000 [1.000, 1.000], mean action: 0.500 [0.000, 1.000], mean observation: 0.068 [-0.627, 1.205], loss: 0.089083, mean_absolute_error: 0.985387, mean_q: 1.838054\n",
      "  436/5000: episode: 12, duration: 0.382s, episode steps: 21, steps per second: 55, episode reward: 21.000, mean reward: 1.000 [1.000, 1.000], mean action: 0.476 [0.000, 1.000], mean observation: 0.089 [-0.369, 1.041], loss: 0.096308, mean_absolute_error: 1.082462, mean_q: 2.025167\n",
      "  459/5000: episode: 13, duration: 0.382s, episode steps: 23, steps per second: 60, episode reward: 23.000, mean reward: 1.000 [1.000, 1.000], mean action: 0.478 [0.000, 1.000], mean observation: 0.085 [-0.543, 1.001], loss: 0.098921, mean_absolute_error: 1.160989, mean_q: 2.194492\n",
      "  479/5000: episode: 14, duration: 0.366s, episode steps: 20, steps per second: 55, episode reward: 20.000, mean reward: 1.000 [1.000, 1.000], mean action: 0.450 [0.000, 1.000], mean observation: 0.084 [-0.577, 1.062], loss: 0.096661, mean_absolute_error: 1.247516, mean_q: 2.392321\n",
      "  493/5000: episode: 15, duration: 0.244s, episode steps: 14, steps per second: 57, episode reward: 14.000, mean reward: 1.000 [1.000, 1.000], mean action: 0.429 [0.000, 1.000], mean observation: 0.086 [-0.605, 1.203], loss: 0.106024, mean_absolute_error: 1.324687, mean_q: 2.545530\n",
      "  505/5000: episode: 16, duration: 0.226s, episode steps: 12, steps per second: 53, episode reward: 12.000, mean reward: 1.000 [1.000, 1.000], mean action: 0.417 [0.000, 1.000], mean observation: 0.116 [-0.773, 1.216], loss: 0.087001, mean_absolute_error: 1.364349, mean_q: 2.663793\n",
      "  523/5000: episode: 17, duration: 0.294s, episode steps: 18, steps per second: 61, episode reward: 18.000, mean reward: 1.000 [1.000, 1.000], mean action: 0.444 [0.000, 1.000], mean observation: 0.071 [-0.582, 1.185], loss: 0.117278, mean_absolute_error: 1.447230, mean_q: 2.811074\n",
      "  539/5000: episode: 18, duration: 0.266s, episode steps: 16, steps per second: 60, episode reward: 16.000, mean reward: 1.000 [1.000, 1.000], mean action: 0.375 [0.000, 1.000], mean observation: 0.091 [-0.804, 1.495], loss: 0.120536, mean_absolute_error: 1.525133, mean_q: 2.973674\n",
      "  555/5000: episode: 19, duration: 0.265s, episode steps: 16, steps per second: 60, episode reward: 16.000, mean reward: 1.000 [1.000, 1.000], mean action: 0.438 [0.000, 1.000], mean observation: 0.104 [-0.764, 1.371], loss: 0.133477, mean_absolute_error: 1.583927, mean_q: 3.109876\n",
      "  566/5000: episode: 20, duration: 0.218s, episode steps: 11, steps per second: 50, episode reward: 11.000, mean reward: 1.000 [1.000, 1.000], mean action: 0.364 [0.000, 1.000], mean observation: 0.115 [-0.784, 1.384], loss: 0.196489, mean_absolute_error: 1.703883, mean_q: 3.297388\n",
      "  576/5000: episode: 21, duration: 0.163s, episode steps: 10, steps per second: 61, episode reward: 10.000, mean reward: 1.000 [1.000, 1.000], mean action: 0.300 [0.000, 1.000], mean observation: 0.146 [-0.771, 1.498], loss: 0.210815, mean_absolute_error: 1.764241, mean_q: 3.353690\n",
      "  588/5000: episode: 22, duration: 0.199s, episode steps: 12, steps per second: 60, episode reward: 12.000, mean reward: 1.000 [1.000, 1.000], mean action: 0.333 [0.000, 1.000], mean observation: 0.113 [-0.805, 1.493], loss: 0.215997, mean_absolute_error: 1.790206, mean_q: 3.461342\n",
      "  597/5000: episode: 23, duration: 0.150s, episode steps: 9, steps per second: 60, episode reward: 9.000, mean reward: 1.000 [1.000, 1.000], mean action: 0.222 [0.000, 1.000], mean observation: 0.143 [-0.949, 1.739], loss: 0.389743, mean_absolute_error: 1.885357, mean_q: 3.556309\n",
      "  606/5000: episode: 24, duration: 0.149s, episode steps: 9, steps per second: 60, episode reward: 9.000, mean reward: 1.000 [1.000, 1.000], mean action: 0.222 [0.000, 1.000], mean observation: 0.137 [-1.161, 1.872], loss: 0.248605, mean_absolute_error: 1.848210, mean_q: 3.563089\n",
      "  617/5000: episode: 25, duration: 0.182s, episode steps: 11, steps per second: 60, episode reward: 11.000, mean reward: 1.000 [1.000, 1.000], mean action: 0.273 [0.000, 1.000], mean observation: 0.091 [-1.189, 1.850], loss: 0.344054, mean_absolute_error: 1.934484, mean_q: 3.684968\n",
      "  626/5000: episode: 26, duration: 0.150s, episode steps: 9, steps per second: 60, episode reward: 9.000, mean reward: 1.000 [1.000, 1.000], mean action: 0.111 [0.000, 1.000], mean observation: 0.145 [-1.358, 2.320], loss: 0.187659, mean_absolute_error: 1.926700, mean_q: 3.792928\n",
      "  637/5000: episode: 27, duration: 0.204s, episode steps: 11, steps per second: 54, episode reward: 11.000, mean reward: 1.000 [1.000, 1.000], mean action: 0.273 [0.000, 1.000], mean observation: 0.105 [-1.378, 2.081], loss: 0.362257, mean_absolute_error: 2.035157, mean_q: 3.969284\n",
      "  647/5000: episode: 28, duration: 0.178s, episode steps: 10, steps per second: 56, episode reward: 10.000, mean reward: 1.000 [1.000, 1.000], mean action: 0.300 [0.000, 1.000], mean observation: 0.112 [-1.031, 1.703], loss: 0.360556, mean_absolute_error: 2.075740, mean_q: 4.008927\n",
      "  657/5000: episode: 29, duration: 0.166s, episode steps: 10, steps per second: 60, episode reward: 10.000, mean reward: 1.000 [1.000, 1.000], mean action: 0.200 [0.000, 1.000], mean observation: 0.146 [-1.132, 1.946], loss: 0.360306, mean_absolute_error: 2.119401, mean_q: 4.075329\n",
      "  668/5000: episode: 30, duration: 0.182s, episode steps: 11, steps per second: 60, episode reward: 11.000, mean reward: 1.000 [1.000, 1.000], mean action: 0.182 [0.000, 1.000], mean observation: 0.134 [-1.330, 2.300], loss: 0.543190, mean_absolute_error: 2.185649, mean_q: 4.191406\n"
     ]
    },
    {
     "name": "stdout",
     "output_type": "stream",
     "text": [
      "  680/5000: episode: 31, duration: 0.200s, episode steps: 12, steps per second: 60, episode reward: 12.000, mean reward: 1.000 [1.000, 1.000], mean action: 0.167 [0.000, 1.000], mean observation: 0.098 [-1.789, 2.681], loss: 0.440390, mean_absolute_error: 2.218537, mean_q: 4.223358\n",
      "  689/5000: episode: 32, duration: 0.184s, episode steps: 9, steps per second: 49, episode reward: 9.000, mean reward: 1.000 [1.000, 1.000], mean action: 0.111 [0.000, 1.000], mean observation: 0.135 [-1.611, 2.534], loss: 0.426713, mean_absolute_error: 2.294608, mean_q: 4.376363\n",
      "  698/5000: episode: 33, duration: 0.147s, episode steps: 9, steps per second: 61, episode reward: 9.000, mean reward: 1.000 [1.000, 1.000], mean action: 0.000 [0.000, 0.000], mean observation: 0.145 [-1.737, 2.764], loss: 0.418507, mean_absolute_error: 2.304470, mean_q: 4.448545\n",
      "  708/5000: episode: 34, duration: 0.166s, episode steps: 10, steps per second: 60, episode reward: 10.000, mean reward: 1.000 [1.000, 1.000], mean action: 0.100 [0.000, 1.000], mean observation: 0.142 [-1.518, 2.576], loss: 0.416435, mean_absolute_error: 2.329937, mean_q: 4.606202\n",
      "  716/5000: episode: 35, duration: 0.133s, episode steps: 8, steps per second: 60, episode reward: 8.000, mean reward: 1.000 [1.000, 1.000], mean action: 0.000 [0.000, 0.000], mean observation: 0.144 [-1.590, 2.565], loss: 0.600004, mean_absolute_error: 2.463382, mean_q: 4.772243\n",
      "  727/5000: episode: 36, duration: 0.177s, episode steps: 11, steps per second: 62, episode reward: 11.000, mean reward: 1.000 [1.000, 1.000], mean action: 0.091 [0.000, 1.000], mean observation: 0.116 [-1.783, 2.796], loss: 0.634075, mean_absolute_error: 2.512173, mean_q: 4.786926\n",
      "  737/5000: episode: 37, duration: 0.166s, episode steps: 10, steps per second: 60, episode reward: 10.000, mean reward: 1.000 [1.000, 1.000], mean action: 0.100 [0.000, 1.000], mean observation: 0.126 [-1.547, 2.430], loss: 0.451077, mean_absolute_error: 2.517033, mean_q: 4.839103\n",
      "  745/5000: episode: 38, duration: 0.133s, episode steps: 8, steps per second: 60, episode reward: 8.000, mean reward: 1.000 [1.000, 1.000], mean action: 0.000 [0.000, 0.000], mean observation: 0.143 [-1.547, 2.531], loss: 0.752772, mean_absolute_error: 2.635968, mean_q: 4.961605\n",
      "  757/5000: episode: 39, duration: 0.199s, episode steps: 12, steps per second: 60, episode reward: 12.000, mean reward: 1.000 [1.000, 1.000], mean action: 0.250 [0.000, 1.000], mean observation: 0.120 [-1.375, 2.212], loss: 0.540005, mean_absolute_error: 2.620775, mean_q: 4.981471\n",
      "  766/5000: episode: 40, duration: 0.150s, episode steps: 9, steps per second: 60, episode reward: 9.000, mean reward: 1.000 [1.000, 1.000], mean action: 0.222 [0.000, 1.000], mean observation: 0.122 [-1.188, 1.892], loss: 0.605238, mean_absolute_error: 2.709806, mean_q: 5.129202\n",
      "  775/5000: episode: 41, duration: 0.149s, episode steps: 9, steps per second: 60, episode reward: 9.000, mean reward: 1.000 [1.000, 1.000], mean action: 0.222 [0.000, 1.000], mean observation: 0.155 [-0.983, 1.766], loss: 0.796911, mean_absolute_error: 2.770683, mean_q: 5.179962\n",
      "  785/5000: episode: 42, duration: 0.166s, episode steps: 10, steps per second: 60, episode reward: 10.000, mean reward: 1.000 [1.000, 1.000], mean action: 0.300 [0.000, 1.000], mean observation: 0.109 [-1.221, 1.812], loss: 0.637369, mean_absolute_error: 2.757374, mean_q: 5.195137\n",
      "  794/5000: episode: 43, duration: 0.149s, episode steps: 9, steps per second: 60, episode reward: 9.000, mean reward: 1.000 [1.000, 1.000], mean action: 0.222 [0.000, 1.000], mean observation: 0.160 [-0.948, 1.776], loss: 0.564043, mean_absolute_error: 2.782228, mean_q: 5.269373\n",
      "  805/5000: episode: 44, duration: 0.183s, episode steps: 11, steps per second: 60, episode reward: 11.000, mean reward: 1.000 [1.000, 1.000], mean action: 0.273 [0.000, 1.000], mean observation: 0.127 [-1.132, 1.755], loss: 1.046171, mean_absolute_error: 2.913051, mean_q: 5.371109\n",
      "  815/5000: episode: 45, duration: 0.166s, episode steps: 10, steps per second: 60, episode reward: 10.000, mean reward: 1.000 [1.000, 1.000], mean action: 0.300 [0.000, 1.000], mean observation: 0.146 [-1.136, 1.913], loss: 0.610610, mean_absolute_error: 2.844954, mean_q: 5.307953\n",
      "  826/5000: episode: 46, duration: 0.183s, episode steps: 11, steps per second: 60, episode reward: 11.000, mean reward: 1.000 [1.000, 1.000], mean action: 0.273 [0.000, 1.000], mean observation: 0.147 [-1.143, 2.007], loss: 1.008779, mean_absolute_error: 2.943408, mean_q: 5.396907\n",
      "  836/5000: episode: 47, duration: 0.166s, episode steps: 10, steps per second: 60, episode reward: 10.000, mean reward: 1.000 [1.000, 1.000], mean action: 0.200 [0.000, 1.000], mean observation: 0.153 [-1.139, 1.980], loss: 0.840443, mean_absolute_error: 2.938451, mean_q: 5.451012\n",
      "  846/5000: episode: 48, duration: 0.165s, episode steps: 10, steps per second: 60, episode reward: 10.000, mean reward: 1.000 [1.000, 1.000], mean action: 0.200 [0.000, 1.000], mean observation: 0.113 [-1.212, 1.985], loss: 0.773188, mean_absolute_error: 2.996421, mean_q: 5.564148\n",
      "  856/5000: episode: 49, duration: 0.166s, episode steps: 10, steps per second: 60, episode reward: 10.000, mean reward: 1.000 [1.000, 1.000], mean action: 0.200 [0.000, 1.000], mean observation: 0.127 [-1.186, 1.983], loss: 0.757197, mean_absolute_error: 3.005208, mean_q: 5.665952\n",
      "  867/5000: episode: 50, duration: 0.183s, episode steps: 11, steps per second: 60, episode reward: 11.000, mean reward: 1.000 [1.000, 1.000], mean action: 0.273 [0.000, 1.000], mean observation: 0.101 [-1.197, 1.872], loss: 0.710199, mean_absolute_error: 3.051868, mean_q: 5.782843\n",
      "  877/5000: episode: 51, duration: 0.166s, episode steps: 10, steps per second: 60, episode reward: 10.000, mean reward: 1.000 [1.000, 1.000], mean action: 0.300 [0.000, 1.000], mean observation: 0.117 [-1.140, 1.841], loss: 0.746384, mean_absolute_error: 3.087664, mean_q: 5.810004\n",
      "  891/5000: episode: 52, duration: 0.233s, episode steps: 14, steps per second: 60, episode reward: 14.000, mean reward: 1.000 [1.000, 1.000], mean action: 0.357 [0.000, 1.000], mean observation: 0.077 [-1.015, 1.589], loss: 0.894579, mean_absolute_error: 3.140859, mean_q: 5.814184\n",
      "  903/5000: episode: 53, duration: 0.199s, episode steps: 12, steps per second: 60, episode reward: 12.000, mean reward: 1.000 [1.000, 1.000], mean action: 0.250 [0.000, 1.000], mean observation: 0.115 [-1.411, 2.168], loss: 0.560205, mean_absolute_error: 3.113061, mean_q: 5.943684\n",
      "  913/5000: episode: 54, duration: 0.166s, episode steps: 10, steps per second: 60, episode reward: 10.000, mean reward: 1.000 [1.000, 1.000], mean action: 0.200 [0.000, 1.000], mean observation: 0.123 [-1.183, 1.955], loss: 1.015987, mean_absolute_error: 3.272562, mean_q: 6.114337\n",
      "  922/5000: episode: 55, duration: 0.150s, episode steps: 9, steps per second: 60, episode reward: 9.000, mean reward: 1.000 [1.000, 1.000], mean action: 0.222 [0.000, 1.000], mean observation: 0.124 [-1.156, 1.887], loss: 0.668624, mean_absolute_error: 3.226828, mean_q: 6.134409\n",
      "  933/5000: episode: 56, duration: 0.182s, episode steps: 11, steps per second: 61, episode reward: 11.000, mean reward: 1.000 [1.000, 1.000], mean action: 0.273 [0.000, 1.000], mean observation: 0.100 [-1.205, 1.879], loss: 0.945098, mean_absolute_error: 3.312778, mean_q: 6.188221\n",
      "  944/5000: episode: 57, duration: 0.183s, episode steps: 11, steps per second: 60, episode reward: 11.000, mean reward: 1.000 [1.000, 1.000], mean action: 0.273 [0.000, 1.000], mean observation: 0.115 [-1.191, 1.937], loss: 0.890539, mean_absolute_error: 3.320955, mean_q: 6.204116\n",
      "  954/5000: episode: 58, duration: 0.168s, episode steps: 10, steps per second: 60, episode reward: 10.000, mean reward: 1.000 [1.000, 1.000], mean action: 0.200 [0.000, 1.000], mean observation: 0.129 [-1.341, 2.185], loss: 0.903654, mean_absolute_error: 3.360323, mean_q: 6.288863\n",
      "  962/5000: episode: 59, duration: 0.132s, episode steps: 8, steps per second: 61, episode reward: 8.000, mean reward: 1.000 [1.000, 1.000], mean action: 0.125 [0.000, 1.000], mean observation: 0.134 [-1.409, 2.230], loss: 0.764222, mean_absolute_error: 3.367575, mean_q: 6.349599\n",
      "  972/5000: episode: 60, duration: 0.165s, episode steps: 10, steps per second: 61, episode reward: 10.000, mean reward: 1.000 [1.000, 1.000], mean action: 0.200 [0.000, 1.000], mean observation: 0.129 [-1.412, 2.169], loss: 1.087687, mean_absolute_error: 3.426095, mean_q: 6.356469\n",
      "  981/5000: episode: 61, duration: 0.184s, episode steps: 9, steps per second: 49, episode reward: 9.000, mean reward: 1.000 [1.000, 1.000], mean action: 0.111 [0.000, 1.000], mean observation: 0.117 [-1.384, 2.189], loss: 1.073795, mean_absolute_error: 3.439911, mean_q: 6.343265\n"
     ]
    },
    {
     "name": "stdout",
     "output_type": "stream",
     "text": [
      "  991/5000: episode: 62, duration: 0.167s, episode steps: 10, steps per second: 60, episode reward: 10.000, mean reward: 1.000 [1.000, 1.000], mean action: 0.100 [0.000, 1.000], mean observation: 0.125 [-1.560, 2.498], loss: 0.999470, mean_absolute_error: 3.448232, mean_q: 6.427165\n",
      " 1003/5000: episode: 63, duration: 0.199s, episode steps: 12, steps per second: 60, episode reward: 12.000, mean reward: 1.000 [1.000, 1.000], mean action: 0.083 [0.000, 1.000], mean observation: 0.129 [-1.913, 3.015], loss: 1.046327, mean_absolute_error: 3.477995, mean_q: 6.478175\n",
      " 1013/5000: episode: 64, duration: 0.166s, episode steps: 10, steps per second: 60, episode reward: 10.000, mean reward: 1.000 [1.000, 1.000], mean action: 0.000 [0.000, 0.000], mean observation: 0.145 [-1.913, 3.061], loss: 1.127366, mean_absolute_error: 3.527216, mean_q: 6.569734\n",
      " 1023/5000: episode: 65, duration: 0.164s, episode steps: 10, steps per second: 61, episode reward: 10.000, mean reward: 1.000 [1.000, 1.000], mean action: 0.000 [0.000, 0.000], mean observation: 0.119 [-1.968, 3.016], loss: 1.059023, mean_absolute_error: 3.530528, mean_q: 6.586785\n",
      " 1034/5000: episode: 66, duration: 0.182s, episode steps: 11, steps per second: 60, episode reward: 11.000, mean reward: 1.000 [1.000, 1.000], mean action: 0.091 [0.000, 1.000], mean observation: 0.136 [-1.744, 2.816], loss: 0.825630, mean_absolute_error: 3.517584, mean_q: 6.649125\n",
      " 1045/5000: episode: 67, duration: 0.185s, episode steps: 11, steps per second: 59, episode reward: 11.000, mean reward: 1.000 [1.000, 1.000], mean action: 0.182 [0.000, 1.000], mean observation: 0.106 [-1.375, 2.176], loss: 1.094975, mean_absolute_error: 3.629283, mean_q: 6.734888\n",
      " 1054/5000: episode: 68, duration: 0.148s, episode steps: 9, steps per second: 61, episode reward: 9.000, mean reward: 1.000 [1.000, 1.000], mean action: 0.222 [0.000, 1.000], mean observation: 0.132 [-1.152, 1.837], loss: 1.103832, mean_absolute_error: 3.647133, mean_q: 6.668004\n",
      " 1065/5000: episode: 69, duration: 0.183s, episode steps: 11, steps per second: 60, episode reward: 11.000, mean reward: 1.000 [1.000, 1.000], mean action: 0.364 [0.000, 1.000], mean observation: 0.106 [-1.160, 1.802], loss: 1.312127, mean_absolute_error: 3.709235, mean_q: 6.717174\n",
      " 1077/5000: episode: 70, duration: 0.199s, episode steps: 12, steps per second: 60, episode reward: 12.000, mean reward: 1.000 [1.000, 1.000], mean action: 0.333 [0.000, 1.000], mean observation: 0.122 [-0.965, 1.564], loss: 0.916360, mean_absolute_error: 3.668454, mean_q: 6.689378\n",
      " 1088/5000: episode: 71, duration: 0.183s, episode steps: 11, steps per second: 60, episode reward: 11.000, mean reward: 1.000 [1.000, 1.000], mean action: 0.364 [0.000, 1.000], mean observation: 0.116 [-0.829, 1.273], loss: 0.880615, mean_absolute_error: 3.704625, mean_q: 6.829134\n",
      " 1099/5000: episode: 72, duration: 0.183s, episode steps: 11, steps per second: 60, episode reward: 11.000, mean reward: 1.000 [1.000, 1.000], mean action: 0.364 [0.000, 1.000], mean observation: 0.118 [-0.760, 1.446], loss: 1.077160, mean_absolute_error: 3.765822, mean_q: 6.912910\n",
      " 1111/5000: episode: 73, duration: 0.199s, episode steps: 12, steps per second: 60, episode reward: 12.000, mean reward: 1.000 [1.000, 1.000], mean action: 0.333 [0.000, 1.000], mean observation: 0.092 [-1.022, 1.524], loss: 0.837280, mean_absolute_error: 3.746059, mean_q: 6.937914\n",
      " 1122/5000: episode: 74, duration: 0.183s, episode steps: 11, steps per second: 60, episode reward: 11.000, mean reward: 1.000 [1.000, 1.000], mean action: 0.364 [0.000, 1.000], mean observation: 0.137 [-0.750, 1.297], loss: 0.842470, mean_absolute_error: 3.792705, mean_q: 7.086563\n",
      " 1134/5000: episode: 75, duration: 0.199s, episode steps: 12, steps per second: 60, episode reward: 12.000, mean reward: 1.000 [1.000, 1.000], mean action: 0.417 [0.000, 1.000], mean observation: 0.101 [-0.766, 1.333], loss: 0.987729, mean_absolute_error: 3.819198, mean_q: 7.105097\n",
      " 1148/5000: episode: 76, duration: 0.233s, episode steps: 14, steps per second: 60, episode reward: 14.000, mean reward: 1.000 [1.000, 1.000], mean action: 0.429 [0.000, 1.000], mean observation: 0.125 [-0.738, 1.206], loss: 0.842714, mean_absolute_error: 3.807197, mean_q: 7.019474\n",
      " 1166/5000: episode: 77, duration: 0.299s, episode steps: 18, steps per second: 60, episode reward: 18.000, mean reward: 1.000 [1.000, 1.000], mean action: 0.444 [0.000, 1.000], mean observation: 0.075 [-0.755, 1.158], loss: 1.125806, mean_absolute_error: 3.880027, mean_q: 7.056297\n",
      " 1180/5000: episode: 78, duration: 0.233s, episode steps: 14, steps per second: 60, episode reward: 14.000, mean reward: 1.000 [1.000, 1.000], mean action: 0.429 [0.000, 1.000], mean observation: 0.121 [-0.546, 1.069], loss: 0.918031, mean_absolute_error: 3.902350, mean_q: 7.212557\n",
      " 1198/5000: episode: 79, duration: 0.299s, episode steps: 18, steps per second: 60, episode reward: 18.000, mean reward: 1.000 [1.000, 1.000], mean action: 0.500 [0.000, 1.000], mean observation: 0.096 [-0.552, 0.981], loss: 1.331563, mean_absolute_error: 3.989442, mean_q: 7.255374\n",
      " 1220/5000: episode: 80, duration: 0.366s, episode steps: 22, steps per second: 60, episode reward: 22.000, mean reward: 1.000 [1.000, 1.000], mean action: 0.500 [0.000, 1.000], mean observation: 0.081 [-0.554, 1.140], loss: 1.213868, mean_absolute_error: 3.993271, mean_q: 7.178104\n",
      " 1240/5000: episode: 81, duration: 0.332s, episode steps: 20, steps per second: 60, episode reward: 20.000, mean reward: 1.000 [1.000, 1.000], mean action: 0.500 [0.000, 1.000], mean observation: 0.093 [-0.391, 0.916], loss: 1.116309, mean_absolute_error: 4.016973, mean_q: 7.281358\n",
      " 1272/5000: episode: 82, duration: 0.531s, episode steps: 32, steps per second: 60, episode reward: 32.000, mean reward: 1.000 [1.000, 1.000], mean action: 0.500 [0.000, 1.000], mean observation: 0.082 [-0.349, 0.821], loss: 1.032133, mean_absolute_error: 4.046318, mean_q: 7.456884\n",
      " 1328/5000: episode: 83, duration: 0.933s, episode steps: 56, steps per second: 60, episode reward: 56.000, mean reward: 1.000 [1.000, 1.000], mean action: 0.518 [0.000, 1.000], mean observation: 0.067 [-0.389, 0.743], loss: 1.083439, mean_absolute_error: 4.174836, mean_q: 7.715733\n",
      " 1356/5000: episode: 84, duration: 0.466s, episode steps: 28, steps per second: 60, episode reward: 28.000, mean reward: 1.000 [1.000, 1.000], mean action: 0.500 [0.000, 1.000], mean observation: 0.097 [-0.354, 0.802], loss: 1.342263, mean_absolute_error: 4.286893, mean_q: 7.743802\n",
      " 1387/5000: episode: 85, duration: 0.516s, episode steps: 31, steps per second: 60, episode reward: 31.000, mean reward: 1.000 [1.000, 1.000], mean action: 0.516 [0.000, 1.000], mean observation: 0.106 [-0.405, 0.684], loss: 1.108734, mean_absolute_error: 4.291694, mean_q: 7.874714\n",
      " 1428/5000: episode: 86, duration: 0.683s, episode steps: 41, steps per second: 60, episode reward: 41.000, mean reward: 1.000 [1.000, 1.000], mean action: 0.537 [0.000, 1.000], mean observation: 0.110 [-0.385, 0.810], loss: 1.146027, mean_absolute_error: 4.396896, mean_q: 8.109907\n",
      " 1525/5000: episode: 87, duration: 1.616s, episode steps: 97, steps per second: 60, episode reward: 97.000, mean reward: 1.000 [1.000, 1.000], mean action: 0.485 [0.000, 1.000], mean observation: -0.063 [-0.758, 0.501], loss: 1.129772, mean_absolute_error: 4.563494, mean_q: 8.502588\n",
      " 1594/5000: episode: 88, duration: 1.149s, episode steps: 69, steps per second: 60, episode reward: 69.000, mean reward: 1.000 [1.000, 1.000], mean action: 0.507 [0.000, 1.000], mean observation: -0.053 [-1.100, 0.513], loss: 1.161615, mean_absolute_error: 4.735870, mean_q: 8.857001\n",
      " 1617/5000: episode: 89, duration: 0.383s, episode steps: 23, steps per second: 60, episode reward: 23.000, mean reward: 1.000 [1.000, 1.000], mean action: 0.522 [0.000, 1.000], mean observation: -0.078 [-1.079, 0.387], loss: 1.019987, mean_absolute_error: 4.882688, mean_q: 9.259921\n",
      " 1633/5000: episode: 90, duration: 0.265s, episode steps: 16, steps per second: 60, episode reward: 16.000, mean reward: 1.000 [1.000, 1.000], mean action: 0.562 [0.000, 1.000], mean observation: -0.101 [-1.304, 0.643], loss: 1.124033, mean_absolute_error: 4.920249, mean_q: 9.379957\n",
      " 1644/5000: episode: 91, duration: 0.183s, episode steps: 11, steps per second: 60, episode reward: 11.000, mean reward: 1.000 [1.000, 1.000], mean action: 0.727 [0.000, 1.000], mean observation: -0.112 [-1.836, 1.038], loss: 1.164608, mean_absolute_error: 4.930033, mean_q: 9.356640\n"
     ]
    },
    {
     "name": "stdout",
     "output_type": "stream",
     "text": [
      " 1653/5000: episode: 92, duration: 0.149s, episode steps: 9, steps per second: 60, episode reward: 9.000, mean reward: 1.000 [1.000, 1.000], mean action: 0.889 [0.000, 1.000], mean observation: -0.123 [-2.247, 1.350], loss: 1.117953, mean_absolute_error: 5.065046, mean_q: 9.688518\n",
      " 1663/5000: episode: 93, duration: 0.166s, episode steps: 10, steps per second: 60, episode reward: 10.000, mean reward: 1.000 [1.000, 1.000], mean action: 0.800 [0.000, 1.000], mean observation: -0.145 [-2.053, 1.179], loss: 1.192308, mean_absolute_error: 5.038626, mean_q: 9.595671\n",
      " 1672/5000: episode: 94, duration: 0.150s, episode steps: 9, steps per second: 60, episode reward: 9.000, mean reward: 1.000 [1.000, 1.000], mean action: 1.000 [1.000, 1.000], mean observation: -0.152 [-2.806, 1.739], loss: 1.440661, mean_absolute_error: 5.179167, mean_q: 9.865060\n",
      " 1689/5000: episode: 95, duration: 0.283s, episode steps: 17, steps per second: 60, episode reward: 17.000, mean reward: 1.000 [1.000, 1.000], mean action: 0.706 [0.000, 1.000], mean observation: -0.061 [-2.225, 1.410], loss: 0.817310, mean_absolute_error: 5.098836, mean_q: 9.806700\n",
      " 1698/5000: episode: 96, duration: 0.149s, episode steps: 9, steps per second: 60, episode reward: 9.000, mean reward: 1.000 [1.000, 1.000], mean action: 1.000 [1.000, 1.000], mean observation: -0.133 [-2.803, 1.807], loss: 1.915859, mean_absolute_error: 5.289706, mean_q: 9.929624\n",
      " 1706/5000: episode: 97, duration: 0.133s, episode steps: 8, steps per second: 60, episode reward: 8.000, mean reward: 1.000 [1.000, 1.000], mean action: 0.875 [0.000, 1.000], mean observation: -0.142 [-2.168, 1.356], loss: 1.986538, mean_absolute_error: 5.320414, mean_q: 9.947704\n",
      " 1727/5000: episode: 98, duration: 0.349s, episode steps: 21, steps per second: 60, episode reward: 21.000, mean reward: 1.000 [1.000, 1.000], mean action: 0.571 [0.000, 1.000], mean observation: -0.067 [-1.271, 0.632], loss: 1.146271, mean_absolute_error: 5.292110, mean_q: 9.991018\n",
      " 1744/5000: episode: 99, duration: 0.283s, episode steps: 17, steps per second: 60, episode reward: 17.000, mean reward: 1.000 [1.000, 1.000], mean action: 0.647 [0.000, 1.000], mean observation: -0.086 [-1.757, 0.978], loss: 1.509509, mean_absolute_error: 5.382189, mean_q: 10.191731\n",
      " 1753/5000: episode: 100, duration: 0.149s, episode steps: 9, steps per second: 60, episode reward: 9.000, mean reward: 1.000 [1.000, 1.000], mean action: 1.000 [1.000, 1.000], mean observation: -0.182 [-2.887, 1.722], loss: 2.508552, mean_absolute_error: 5.529175, mean_q: 10.326717\n",
      " 1764/5000: episode: 101, duration: 0.183s, episode steps: 11, steps per second: 60, episode reward: 11.000, mean reward: 1.000 [1.000, 1.000], mean action: 0.818 [0.000, 1.000], mean observation: -0.146 [-2.368, 1.384], loss: 0.964834, mean_absolute_error: 5.373562, mean_q: 10.340148\n",
      " 1773/5000: episode: 102, duration: 0.149s, episode steps: 9, steps per second: 60, episode reward: 9.000, mean reward: 1.000 [1.000, 1.000], mean action: 1.000 [1.000, 1.000], mean observation: -0.167 [-2.915, 1.753], loss: 2.182102, mean_absolute_error: 5.539842, mean_q: 10.499951\n",
      " 1784/5000: episode: 103, duration: 0.184s, episode steps: 11, steps per second: 60, episode reward: 11.000, mean reward: 1.000 [1.000, 1.000], mean action: 0.636 [0.000, 1.000], mean observation: -0.100 [-1.446, 0.800], loss: 1.774655, mean_absolute_error: 5.526949, mean_q: 10.409171\n",
      " 1806/5000: episode: 104, duration: 0.365s, episode steps: 22, steps per second: 60, episode reward: 22.000, mean reward: 1.000 [1.000, 1.000], mean action: 0.545 [0.000, 1.000], mean observation: -0.068 [-1.203, 0.601], loss: 1.861198, mean_absolute_error: 5.565619, mean_q: 10.432321\n",
      " 1818/5000: episode: 105, duration: 0.199s, episode steps: 12, steps per second: 60, episode reward: 12.000, mean reward: 1.000 [1.000, 1.000], mean action: 0.750 [0.000, 1.000], mean observation: -0.127 [-2.117, 1.167], loss: 1.175152, mean_absolute_error: 5.553745, mean_q: 10.578746\n",
      " 1829/5000: episode: 106, duration: 0.183s, episode steps: 11, steps per second: 60, episode reward: 11.000, mean reward: 1.000 [1.000, 1.000], mean action: 0.818 [0.000, 1.000], mean observation: -0.135 [-2.342, 1.369], loss: 1.662659, mean_absolute_error: 5.638276, mean_q: 10.684032\n",
      " 1842/5000: episode: 107, duration: 0.217s, episode steps: 13, steps per second: 60, episode reward: 13.000, mean reward: 1.000 [1.000, 1.000], mean action: 0.692 [0.000, 1.000], mean observation: -0.088 [-1.766, 1.003], loss: 1.902157, mean_absolute_error: 5.684597, mean_q: 10.707850\n",
      " 1854/5000: episode: 108, duration: 0.198s, episode steps: 12, steps per second: 61, episode reward: 12.000, mean reward: 1.000 [1.000, 1.000], mean action: 0.667 [0.000, 1.000], mean observation: -0.085 [-1.485, 0.837], loss: 2.292779, mean_absolute_error: 5.751158, mean_q: 10.781531\n",
      " 1883/5000: episode: 109, duration: 0.483s, episode steps: 29, steps per second: 60, episode reward: 29.000, mean reward: 1.000 [1.000, 1.000], mean action: 0.517 [0.000, 1.000], mean observation: -0.046 [-1.052, 0.617], loss: 2.427112, mean_absolute_error: 5.845654, mean_q: 10.837832\n",
      " 1916/5000: episode: 110, duration: 0.549s, episode steps: 33, steps per second: 60, episode reward: 33.000, mean reward: 1.000 [1.000, 1.000], mean action: 0.515 [0.000, 1.000], mean observation: -0.082 [-1.227, 0.420], loss: 2.350314, mean_absolute_error: 5.883044, mean_q: 10.904735\n",
      " 1936/5000: episode: 111, duration: 0.349s, episode steps: 20, steps per second: 57, episode reward: 20.000, mean reward: 1.000 [1.000, 1.000], mean action: 0.550 [0.000, 1.000], mean observation: -0.096 [-1.106, 0.402], loss: 2.029582, mean_absolute_error: 5.880377, mean_q: 10.877361\n",
      " 1953/5000: episode: 112, duration: 0.301s, episode steps: 17, steps per second: 56, episode reward: 17.000, mean reward: 1.000 [1.000, 1.000], mean action: 0.529 [0.000, 1.000], mean observation: -0.097 [-1.078, 0.430], loss: 1.845918, mean_absolute_error: 5.962227, mean_q: 11.222445\n",
      " 1977/5000: episode: 113, duration: 0.400s, episode steps: 24, steps per second: 60, episode reward: 24.000, mean reward: 1.000 [1.000, 1.000], mean action: 0.542 [0.000, 1.000], mean observation: -0.056 [-1.127, 0.617], loss: 2.213835, mean_absolute_error: 6.047751, mean_q: 11.419917\n",
      " 2004/5000: episode: 114, duration: 0.448s, episode steps: 27, steps per second: 60, episode reward: 27.000, mean reward: 1.000 [1.000, 1.000], mean action: 0.519 [0.000, 1.000], mean observation: -0.079 [-1.058, 0.378], loss: 2.131499, mean_absolute_error: 6.038535, mean_q: 11.284465\n",
      " 2031/5000: episode: 115, duration: 0.465s, episode steps: 27, steps per second: 58, episode reward: 27.000, mean reward: 1.000 [1.000, 1.000], mean action: 0.519 [0.000, 1.000], mean observation: -0.078 [-1.061, 0.376], loss: 2.111128, mean_absolute_error: 6.095113, mean_q: 11.406659\n",
      " 2054/5000: episode: 116, duration: 0.382s, episode steps: 23, steps per second: 60, episode reward: 23.000, mean reward: 1.000 [1.000, 1.000], mean action: 0.565 [0.000, 1.000], mean observation: -0.057 [-1.257, 0.574], loss: 2.296749, mean_absolute_error: 6.177009, mean_q: 11.515999\n",
      " 2068/5000: episode: 117, duration: 0.232s, episode steps: 14, steps per second: 60, episode reward: 14.000, mean reward: 1.000 [1.000, 1.000], mean action: 0.571 [0.000, 1.000], mean observation: -0.112 [-1.117, 0.596], loss: 2.485451, mean_absolute_error: 6.261265, mean_q: 11.706786\n",
      " 2084/5000: episode: 118, duration: 0.268s, episode steps: 16, steps per second: 60, episode reward: 16.000, mean reward: 1.000 [1.000, 1.000], mean action: 0.562 [0.000, 1.000], mean observation: -0.105 [-1.084, 0.386], loss: 1.745558, mean_absolute_error: 6.228681, mean_q: 11.782148\n",
      " 2099/5000: episode: 119, duration: 0.249s, episode steps: 15, steps per second: 60, episode reward: 15.000, mean reward: 1.000 [1.000, 1.000], mean action: 0.533 [0.000, 1.000], mean observation: -0.117 [-1.068, 0.420], loss: 1.281289, mean_absolute_error: 6.190435, mean_q: 11.829588\n",
      " 2113/5000: episode: 120, duration: 0.233s, episode steps: 14, steps per second: 60, episode reward: 14.000, mean reward: 1.000 [1.000, 1.000], mean action: 0.571 [0.000, 1.000], mean observation: -0.100 [-1.075, 0.454], loss: 1.395833, mean_absolute_error: 6.274711, mean_q: 12.059816\n"
     ]
    },
    {
     "name": "stdout",
     "output_type": "stream",
     "text": [
      " 2132/5000: episode: 121, duration: 0.318s, episode steps: 19, steps per second: 60, episode reward: 19.000, mean reward: 1.000 [1.000, 1.000], mean action: 0.526 [0.000, 1.000], mean observation: -0.119 [-0.911, 0.367], loss: 2.411001, mean_absolute_error: 6.409554, mean_q: 12.186410\n",
      " 2207/5000: episode: 122, duration: 1.251s, episode steps: 75, steps per second: 60, episode reward: 75.000, mean reward: 1.000 [1.000, 1.000], mean action: 0.493 [0.000, 1.000], mean observation: -0.008 [-0.890, 0.389], loss: 2.266498, mean_absolute_error: 6.503018, mean_q: 12.271247\n",
      " 2231/5000: episode: 123, duration: 0.398s, episode steps: 24, steps per second: 60, episode reward: 24.000, mean reward: 1.000 [1.000, 1.000], mean action: 0.500 [0.000, 1.000], mean observation: -0.121 [-0.983, 0.187], loss: 1.990455, mean_absolute_error: 6.531693, mean_q: 12.447601\n",
      " 2268/5000: episode: 124, duration: 0.618s, episode steps: 37, steps per second: 60, episode reward: 37.000, mean reward: 1.000 [1.000, 1.000], mean action: 0.486 [0.000, 1.000], mean observation: -0.035 [-0.840, 0.404], loss: 2.473358, mean_absolute_error: 6.698267, mean_q: 12.703989\n",
      " 2288/5000: episode: 125, duration: 0.344s, episode steps: 20, steps per second: 58, episode reward: 20.000, mean reward: 1.000 [1.000, 1.000], mean action: 0.500 [0.000, 1.000], mean observation: -0.082 [-0.898, 0.399], loss: 1.800456, mean_absolute_error: 6.760014, mean_q: 12.985567\n",
      " 2306/5000: episode: 126, duration: 0.299s, episode steps: 18, steps per second: 60, episode reward: 18.000, mean reward: 1.000 [1.000, 1.000], mean action: 0.500 [0.000, 1.000], mean observation: -0.104 [-0.862, 0.425], loss: 2.856272, mean_absolute_error: 6.878502, mean_q: 12.999463\n",
      " 2331/5000: episode: 127, duration: 0.418s, episode steps: 25, steps per second: 60, episode reward: 25.000, mean reward: 1.000 [1.000, 1.000], mean action: 0.480 [0.000, 1.000], mean observation: -0.091 [-0.831, 0.434], loss: 3.348839, mean_absolute_error: 6.937387, mean_q: 12.939348\n",
      " 2372/5000: episode: 128, duration: 0.683s, episode steps: 41, steps per second: 60, episode reward: 41.000, mean reward: 1.000 [1.000, 1.000], mean action: 0.512 [0.000, 1.000], mean observation: 0.117 [-0.287, 0.777], loss: 2.445808, mean_absolute_error: 6.901902, mean_q: 13.035636\n",
      " 2438/5000: episode: 129, duration: 1.167s, episode steps: 66, steps per second: 57, episode reward: 66.000, mean reward: 1.000 [1.000, 1.000], mean action: 0.515 [0.000, 1.000], mean observation: 0.098 [-0.349, 0.903], loss: 2.999361, mean_absolute_error: 7.081673, mean_q: 13.375933\n",
      " 2499/5000: episode: 130, duration: 1.085s, episode steps: 61, steps per second: 56, episode reward: 61.000, mean reward: 1.000 [1.000, 1.000], mean action: 0.492 [0.000, 1.000], mean observation: -0.045 [-0.918, 0.370], loss: 2.565486, mean_absolute_error: 7.161750, mean_q: 13.637894\n",
      " 2535/5000: episode: 131, duration: 0.612s, episode steps: 36, steps per second: 59, episode reward: 36.000, mean reward: 1.000 [1.000, 1.000], mean action: 0.500 [0.000, 1.000], mean observation: -0.099 [-0.890, 0.381], loss: 2.899835, mean_absolute_error: 7.282477, mean_q: 13.749195\n",
      " 2580/5000: episode: 132, duration: 0.765s, episode steps: 45, steps per second: 59, episode reward: 45.000, mean reward: 1.000 [1.000, 1.000], mean action: 0.489 [0.000, 1.000], mean observation: -0.030 [-0.818, 0.416], loss: 2.986576, mean_absolute_error: 7.386089, mean_q: 13.954384\n",
      " 2618/5000: episode: 133, duration: 0.635s, episode steps: 38, steps per second: 60, episode reward: 38.000, mean reward: 1.000 [1.000, 1.000], mean action: 0.500 [0.000, 1.000], mean observation: -0.041 [-0.910, 0.615], loss: 3.072849, mean_absolute_error: 7.438785, mean_q: 14.039701\n",
      " 2649/5000: episode: 134, duration: 0.516s, episode steps: 31, steps per second: 60, episode reward: 31.000, mean reward: 1.000 [1.000, 1.000], mean action: 0.516 [0.000, 1.000], mean observation: -0.087 [-1.095, 0.255], loss: 3.083000, mean_absolute_error: 7.489015, mean_q: 14.087084\n",
      " 2676/5000: episode: 135, duration: 0.448s, episode steps: 27, steps per second: 60, episode reward: 27.000, mean reward: 1.000 [1.000, 1.000], mean action: 0.481 [0.000, 1.000], mean observation: -0.105 [-0.812, 0.198], loss: 2.491433, mean_absolute_error: 7.556602, mean_q: 14.371830\n",
      " 2720/5000: episode: 136, duration: 0.763s, episode steps: 44, steps per second: 58, episode reward: 44.000, mean reward: 1.000 [1.000, 1.000], mean action: 0.523 [0.000, 1.000], mean observation: 0.082 [-0.318, 0.824], loss: 2.004434, mean_absolute_error: 7.553723, mean_q: 14.493826\n",
      " 2757/5000: episode: 137, duration: 0.633s, episode steps: 37, steps per second: 58, episode reward: 37.000, mean reward: 1.000 [1.000, 1.000], mean action: 0.486 [0.000, 1.000], mean observation: -0.097 [-0.888, 0.223], loss: 2.741600, mean_absolute_error: 7.666723, mean_q: 14.600893\n",
      " 2798/5000: episode: 138, duration: 0.687s, episode steps: 41, steps per second: 60, episode reward: 41.000, mean reward: 1.000 [1.000, 1.000], mean action: 0.488 [0.000, 1.000], mean observation: -0.089 [-0.944, 0.222], loss: 3.353421, mean_absolute_error: 7.771237, mean_q: 14.682238\n",
      " 2843/5000: episode: 139, duration: 0.764s, episode steps: 45, steps per second: 59, episode reward: 45.000, mean reward: 1.000 [1.000, 1.000], mean action: 0.489 [0.000, 1.000], mean observation: -0.074 [-0.739, 0.350], loss: 3.683248, mean_absolute_error: 7.818433, mean_q: 14.651378\n",
      " 2871/5000: episode: 140, duration: 0.464s, episode steps: 28, steps per second: 60, episode reward: 28.000, mean reward: 1.000 [1.000, 1.000], mean action: 0.500 [0.000, 1.000], mean observation: -0.115 [-0.926, 0.209], loss: 3.366716, mean_absolute_error: 7.885700, mean_q: 14.908626\n",
      " 2906/5000: episode: 141, duration: 0.585s, episode steps: 35, steps per second: 60, episode reward: 35.000, mean reward: 1.000 [1.000, 1.000], mean action: 0.486 [0.000, 1.000], mean observation: -0.074 [-0.742, 0.370], loss: 2.804936, mean_absolute_error: 7.871212, mean_q: 14.961234\n",
      " 2929/5000: episode: 142, duration: 0.395s, episode steps: 23, steps per second: 58, episode reward: 23.000, mean reward: 1.000 [1.000, 1.000], mean action: 0.478 [0.000, 1.000], mean observation: -0.118 [-0.822, 0.387], loss: 2.617374, mean_absolute_error: 8.013928, mean_q: 15.321655\n",
      " 2963/5000: episode: 143, duration: 0.565s, episode steps: 34, steps per second: 60, episode reward: 34.000, mean reward: 1.000 [1.000, 1.000], mean action: 0.529 [0.000, 1.000], mean observation: 0.142 [-0.442, 0.874], loss: 2.825167, mean_absolute_error: 8.052667, mean_q: 15.394357\n",
      " 3055/5000: episode: 144, duration: 1.568s, episode steps: 92, steps per second: 59, episode reward: 92.000, mean reward: 1.000 [1.000, 1.000], mean action: 0.489 [0.000, 1.000], mean observation: -0.071 [-0.873, 0.474], loss: 3.347384, mean_absolute_error: 8.113541, mean_q: 15.413806\n",
      " 3123/5000: episode: 145, duration: 1.133s, episode steps: 68, steps per second: 60, episode reward: 68.000, mean reward: 1.000 [1.000, 1.000], mean action: 0.515 [0.000, 1.000], mean observation: 0.099 [-0.260, 1.079], loss: 3.044449, mean_absolute_error: 8.250676, mean_q: 15.792039\n",
      " 3147/5000: episode: 146, duration: 0.402s, episode steps: 24, steps per second: 60, episode reward: 24.000, mean reward: 1.000 [1.000, 1.000], mean action: 0.500 [0.000, 1.000], mean observation: -0.122 [-1.009, 0.205], loss: 2.435502, mean_absolute_error: 8.313017, mean_q: 16.016216\n",
      " 3179/5000: episode: 147, duration: 0.530s, episode steps: 32, steps per second: 60, episode reward: 32.000, mean reward: 1.000 [1.000, 1.000], mean action: 0.500 [0.000, 1.000], mean observation: -0.113 [-0.908, 0.174], loss: 3.508909, mean_absolute_error: 8.417828, mean_q: 16.093460\n",
      " 3220/5000: episode: 148, duration: 0.749s, episode steps: 41, steps per second: 55, episode reward: 41.000, mean reward: 1.000 [1.000, 1.000], mean action: 0.488 [0.000, 1.000], mean observation: -0.058 [-0.854, 0.587], loss: 3.542193, mean_absolute_error: 8.492423, mean_q: 16.227539\n",
      " 3247/5000: episode: 149, duration: 0.447s, episode steps: 27, steps per second: 60, episode reward: 27.000, mean reward: 1.000 [1.000, 1.000], mean action: 0.481 [0.000, 1.000], mean observation: -0.102 [-0.750, 0.208], loss: 3.226473, mean_absolute_error: 8.522474, mean_q: 16.263199\n"
     ]
    },
    {
     "name": "stdout",
     "output_type": "stream",
     "text": [
      " 3293/5000: episode: 150, duration: 0.770s, episode steps: 46, steps per second: 60, episode reward: 46.000, mean reward: 1.000 [1.000, 1.000], mean action: 0.478 [0.000, 1.000], mean observation: -0.119 [-0.906, 0.209], loss: 2.885216, mean_absolute_error: 8.621620, mean_q: 16.548582\n",
      " 3349/5000: episode: 151, duration: 0.934s, episode steps: 56, steps per second: 60, episode reward: 56.000, mean reward: 1.000 [1.000, 1.000], mean action: 0.518 [0.000, 1.000], mean observation: 0.102 [-0.274, 0.859], loss: 3.495818, mean_absolute_error: 8.729193, mean_q: 16.714167\n",
      " 3400/5000: episode: 152, duration: 0.866s, episode steps: 51, steps per second: 59, episode reward: 51.000, mean reward: 1.000 [1.000, 1.000], mean action: 0.490 [0.000, 1.000], mean observation: -0.091 [-0.841, 0.205], loss: 3.923305, mean_absolute_error: 8.826670, mean_q: 16.833826\n",
      " 3443/5000: episode: 153, duration: 0.731s, episode steps: 43, steps per second: 59, episode reward: 43.000, mean reward: 1.000 [1.000, 1.000], mean action: 0.488 [0.000, 1.000], mean observation: -0.084 [-0.739, 0.208], loss: 4.054041, mean_absolute_error: 8.928637, mean_q: 17.055286\n",
      " 3486/5000: episode: 154, duration: 0.714s, episode steps: 43, steps per second: 60, episode reward: 43.000, mean reward: 1.000 [1.000, 1.000], mean action: 0.488 [0.000, 1.000], mean observation: -0.090 [-0.721, 0.263], loss: 3.768080, mean_absolute_error: 8.986726, mean_q: 17.116940\n",
      " 3551/5000: episode: 155, duration: 1.083s, episode steps: 65, steps per second: 60, episode reward: 65.000, mean reward: 1.000 [1.000, 1.000], mean action: 0.492 [0.000, 1.000], mean observation: -0.072 [-0.968, 0.241], loss: 3.984013, mean_absolute_error: 9.079650, mean_q: 17.361591\n",
      " 3579/5000: episode: 156, duration: 0.465s, episode steps: 28, steps per second: 60, episode reward: 28.000, mean reward: 1.000 [1.000, 1.000], mean action: 0.464 [0.000, 1.000], mean observation: -0.110 [-0.779, 0.373], loss: 3.880352, mean_absolute_error: 9.151777, mean_q: 17.509947\n",
      " 3619/5000: episode: 157, duration: 0.674s, episode steps: 40, steps per second: 59, episode reward: 40.000, mean reward: 1.000 [1.000, 1.000], mean action: 0.525 [0.000, 1.000], mean observation: 0.106 [-0.233, 0.855], loss: 4.282117, mean_absolute_error: 9.223943, mean_q: 17.581223\n",
      " 3659/5000: episode: 158, duration: 0.707s, episode steps: 40, steps per second: 57, episode reward: 40.000, mean reward: 1.000 [1.000, 1.000], mean action: 0.475 [0.000, 1.000], mean observation: -0.103 [-0.765, 0.400], loss: 3.902147, mean_absolute_error: 9.270798, mean_q: 17.707630\n",
      " 3706/5000: episode: 159, duration: 0.799s, episode steps: 47, steps per second: 59, episode reward: 47.000, mean reward: 1.000 [1.000, 1.000], mean action: 0.532 [0.000, 1.000], mean observation: 0.126 [-0.273, 0.860], loss: 3.886624, mean_absolute_error: 9.314738, mean_q: 17.801628\n",
      " 3792/5000: episode: 160, duration: 1.485s, episode steps: 86, steps per second: 58, episode reward: 86.000, mean reward: 1.000 [1.000, 1.000], mean action: 0.512 [0.000, 1.000], mean observation: 0.054 [-0.383, 0.755], loss: 3.739227, mean_absolute_error: 9.316588, mean_q: 17.827993\n",
      " 3829/5000: episode: 161, duration: 0.662s, episode steps: 37, steps per second: 56, episode reward: 37.000, mean reward: 1.000 [1.000, 1.000], mean action: 0.541 [0.000, 1.000], mean observation: 0.137 [-0.279, 0.675], loss: 3.989788, mean_absolute_error: 9.556941, mean_q: 18.320597\n",
      " 3863/5000: episode: 162, duration: 0.617s, episode steps: 34, steps per second: 55, episode reward: 34.000, mean reward: 1.000 [1.000, 1.000], mean action: 0.529 [0.000, 1.000], mean observation: 0.147 [-0.181, 0.819], loss: 4.840849, mean_absolute_error: 9.600173, mean_q: 18.250046\n",
      " 3962/5000: episode: 163, duration: 1.773s, episode steps: 99, steps per second: 56, episode reward: 99.000, mean reward: 1.000 [1.000, 1.000], mean action: 0.485 [0.000, 1.000], mean observation: -0.065 [-0.634, 0.531], loss: 3.909431, mean_absolute_error: 9.559360, mean_q: 18.307417\n",
      " 3994/5000: episode: 164, duration: 0.548s, episode steps: 32, steps per second: 58, episode reward: 32.000, mean reward: 1.000 [1.000, 1.000], mean action: 0.531 [0.000, 1.000], mean observation: 0.138 [-0.178, 0.738], loss: 4.207353, mean_absolute_error: 9.671104, mean_q: 18.516859\n",
      " 4038/5000: episode: 165, duration: 0.748s, episode steps: 44, steps per second: 59, episode reward: 44.000, mean reward: 1.000 [1.000, 1.000], mean action: 0.477 [0.000, 1.000], mean observation: -0.109 [-0.750, 0.183], loss: 2.658981, mean_absolute_error: 9.768505, mean_q: 18.965033\n",
      " 4115/5000: episode: 166, duration: 1.298s, episode steps: 77, steps per second: 59, episode reward: 77.000, mean reward: 1.000 [1.000, 1.000], mean action: 0.481 [0.000, 1.000], mean observation: -0.052 [-0.701, 0.343], loss: 4.382326, mean_absolute_error: 9.853881, mean_q: 18.910831\n",
      " 4206/5000: episode: 167, duration: 1.530s, episode steps: 91, steps per second: 59, episode reward: 91.000, mean reward: 1.000 [1.000, 1.000], mean action: 0.484 [0.000, 1.000], mean observation: -0.062 [-0.807, 0.594], loss: 3.697006, mean_absolute_error: 10.028071, mean_q: 19.374334\n",
      " 4283/5000: episode: 168, duration: 1.395s, episode steps: 77, steps per second: 55, episode reward: 77.000, mean reward: 1.000 [1.000, 1.000], mean action: 0.519 [0.000, 1.000], mean observation: 0.091 [-0.360, 0.686], loss: 4.175259, mean_absolute_error: 10.144338, mean_q: 19.554928\n",
      " 4447/5000: episode: 169, duration: 2.734s, episode steps: 164, steps per second: 60, episode reward: 164.000, mean reward: 1.000 [1.000, 1.000], mean action: 0.506 [0.000, 1.000], mean observation: 0.049 [-0.521, 1.086], loss: 3.789552, mean_absolute_error: 10.305805, mean_q: 19.962826\n",
      " 4647/5000: episode: 170, duration: 3.330s, episode steps: 200, steps per second: 60, episode reward: 200.000, mean reward: 1.000 [1.000, 1.000], mean action: 0.500 [0.000, 1.000], mean observation: 0.027 [-0.605, 0.919], loss: 4.374481, mean_absolute_error: 10.653988, mean_q: 20.622002\n",
      " 4700/5000: episode: 171, duration: 0.885s, episode steps: 53, steps per second: 60, episode reward: 53.000, mean reward: 1.000 [1.000, 1.000], mean action: 0.472 [0.000, 1.000], mean observation: -0.107 [-0.996, 0.192], loss: 4.291536, mean_absolute_error: 10.841122, mean_q: 21.015427\n",
      " 4812/5000: episode: 172, duration: 1.896s, episode steps: 112, steps per second: 59, episode reward: 112.000, mean reward: 1.000 [1.000, 1.000], mean action: 0.509 [0.000, 1.000], mean observation: 0.080 [-0.567, 0.828], loss: 4.279912, mean_absolute_error: 10.992406, mean_q: 21.309940\n",
      " 4863/5000: episode: 173, duration: 0.851s, episode steps: 51, steps per second: 60, episode reward: 51.000, mean reward: 1.000 [1.000, 1.000], mean action: 0.471 [0.000, 1.000], mean observation: -0.116 [-0.680, 0.451], loss: 4.795596, mean_absolute_error: 11.113970, mean_q: 21.497190\n",
      " 4951/5000: episode: 174, duration: 1.515s, episode steps: 88, steps per second: 58, episode reward: 88.000, mean reward: 1.000 [1.000, 1.000], mean action: 0.523 [0.000, 1.000], mean observation: 0.108 [-0.304, 0.702], loss: 3.772120, mean_absolute_error: 11.245240, mean_q: 21.879065\n",
      "done, took 85.785 seconds\n"
     ]
    },
    {
     "data": {
      "text/plain": [
       "<keras.callbacks.History at 0x7fe9d57fbc18>"
      ]
     },
     "execution_count": 7,
     "metadata": {},
     "output_type": "execute_result"
    }
   ],
   "source": [
    "# Okay, now it's time to learn something! We visualize the training here for show, but this slows down training quite a lot. \n",
    "dqn.fit(env, nb_steps=5000, visualize=True, verbose=2)"
   ]
  },
  {
   "cell_type": "code",
   "execution_count": 8,
   "metadata": {},
   "outputs": [
    {
     "name": "stdout",
     "output_type": "stream",
     "text": [
      "Testing for 5 episodes ...\n",
      "Episode 1: reward: 40.000, steps: 40\n",
      "Episode 2: reward: 54.000, steps: 54\n",
      "Episode 3: reward: 81.000, steps: 81\n",
      "Episode 4: reward: 120.000, steps: 120\n",
      "Episode 5: reward: 41.000, steps: 41\n"
     ]
    },
    {
     "data": {
      "text/plain": [
       "<keras.callbacks.History at 0x7fe9d56cb278>"
      ]
     },
     "execution_count": 8,
     "metadata": {},
     "output_type": "execute_result"
    }
   ],
   "source": [
    "dqn.test(env, nb_episodes=5, visualize=True)"
   ]
  },
  {
   "cell_type": "code",
   "execution_count": 9,
   "metadata": {},
   "outputs": [
    {
     "name": "stdout",
     "output_type": "stream",
     "text": [
      "\u001b[33mWARN: gym.spaces.Box autodetected dtype as <class 'numpy.float32'>. Please provide explicit dtype.\u001b[0m\n"
     ]
    }
   ],
   "source": [
    "ENV_NAME = 'MountainCar-v0'\n",
    "\n",
    "# Get the environment and extract the number of actions available in the Cartpole problem\n",
    "env = gym.make(ENV_NAME)\n",
    "np.random.seed(123)\n",
    "env.seed(123)\n",
    "nb_actions = env.action_space.n"
   ]
  },
  {
   "cell_type": "code",
   "execution_count": 10,
   "metadata": {},
   "outputs": [
    {
     "name": "stdout",
     "output_type": "stream",
     "text": [
      "Discrete(3)\n"
     ]
    }
   ],
   "source": [
    "print(env.action_space)"
   ]
  },
  {
   "cell_type": "code",
   "execution_count": 11,
   "metadata": {},
   "outputs": [
    {
     "name": "stdout",
     "output_type": "stream",
     "text": [
      "Box(2,)\n"
     ]
    }
   ],
   "source": [
    "print(env.observation_space)"
   ]
  },
  {
   "cell_type": "code",
   "execution_count": 12,
   "metadata": {
    "scrolled": true
   },
   "outputs": [
    {
     "name": "stdout",
     "output_type": "stream",
     "text": [
      "(1, 2)\n",
      "_________________________________________________________________\n",
      "Layer (type)                 Output Shape              Param #   \n",
      "=================================================================\n",
      "flatten_2 (Flatten)          (None, 2)                 0         \n",
      "_________________________________________________________________\n",
      "dense_3 (Dense)              (None, 24)                72        \n",
      "_________________________________________________________________\n",
      "activation_3 (Activation)    (None, 24)                0         \n",
      "_________________________________________________________________\n",
      "dense_4 (Dense)              (None, 3)                 75        \n",
      "_________________________________________________________________\n",
      "activation_4 (Activation)    (None, 3)                 0         \n",
      "=================================================================\n",
      "Total params: 147\n",
      "Trainable params: 147\n",
      "Non-trainable params: 0\n",
      "_________________________________________________________________\n",
      "None\n"
     ]
    }
   ],
   "source": [
    "model = Sequential()\n",
    "input_shape = (1,) + env.observation_space.shape\n",
    "print(input_shape)\n",
    "model.add(Flatten(input_shape=input_shape))\n",
    "model.add(Dense(24))\n",
    "model.add(Activation('relu'))\n",
    "model.add(Dense(nb_actions))\n",
    "model.add(Activation('linear'))\n",
    "print(model.summary())\n",
    "\n",
    "policy = EpsGreedyQPolicy()\n",
    "memory = SequentialMemory(limit=50000, window_length=1)\n",
    "dqn = DQNAgent(model=model, nb_actions=nb_actions, memory=memory, nb_steps_warmup=10,\n",
    "target_model_update=1e-2, policy=policy)\n",
    "dqn.compile(Adam(lr=1e-3), metrics=['mae'])"
   ]
  },
  {
   "cell_type": "code",
   "execution_count": 13,
   "metadata": {
    "scrolled": true
   },
   "outputs": [
    {
     "name": "stdout",
     "output_type": "stream",
     "text": [
      "Training for 500 steps ...\n"
     ]
    },
    {
     "name": "stderr",
     "output_type": "stream",
     "text": [
      "/home/pilat/git/ML_experiments/rl_aquarium/venv/lib64/python3.6/site-packages/rl/memory.py:29: UserWarning: Not enough entries to sample without replacement. Consider increasing your warm-up phase to avoid oversampling!\n",
      "  warnings.warn('Not enough entries to sample without replacement. Consider increasing your warm-up phase to avoid oversampling!')\n"
     ]
    },
    {
     "name": "stdout",
     "output_type": "stream",
     "text": [
      " 200/500: episode: 1, duration: 4.139s, episode steps: 200, steps per second: 48, episode reward: -200.000, mean reward: -1.000 [-1.000, -1.000], mean action: 0.875 [0.000, 2.000], mean observation: -0.258 [-1.058, 0.042], loss: 0.236920, mean_absolute_error: 0.672265, mean_q: -0.594136\n",
      " 400/500: episode: 2, duration: 3.397s, episode steps: 200, steps per second: 59, episode reward: -200.000, mean reward: -1.000 [-1.000, -1.000], mean action: 0.725 [0.000, 2.000], mean observation: -0.282 [-0.802, 0.024], loss: 0.015733, mean_absolute_error: 1.511167, mean_q: -2.092125\n",
      "done, took 9.215 seconds\n"
     ]
    },
    {
     "data": {
      "text/plain": [
       "<keras.callbacks.History at 0x7fe9d572f780>"
      ]
     },
     "execution_count": 13,
     "metadata": {},
     "output_type": "execute_result"
    }
   ],
   "source": [
    "dqn.fit(env, nb_steps=500, visualize=True, verbose=2)"
   ]
  },
  {
   "cell_type": "code",
   "execution_count": 14,
   "metadata": {},
   "outputs": [
    {
     "name": "stdout",
     "output_type": "stream",
     "text": [
      "Testing for 5 episodes ...\n",
      "Episode 1: reward: -200.000, steps: 200\n",
      "Episode 2: reward: -200.000, steps: 200\n",
      "Episode 3: reward: -200.000, steps: 200\n",
      "Episode 4: reward: -200.000, steps: 200\n",
      "Episode 5: reward: -200.000, steps: 200\n"
     ]
    },
    {
     "data": {
      "text/plain": [
       "<keras.callbacks.History at 0x7fe9d572f710>"
      ]
     },
     "execution_count": 14,
     "metadata": {},
     "output_type": "execute_result"
    }
   ],
   "source": [
    "dqn.test(env, nb_episodes=5, visualize=True)"
   ]
  },
  {
   "cell_type": "code",
   "execution_count": 15,
   "metadata": {},
   "outputs": [
    {
     "name": "stdout",
     "output_type": "stream",
     "text": [
      "[-0.46295365  0.        ]\n",
      "action: 0\n",
      "observation: [-0.46440598 -0.00145233], reward: -1.0, done: False, info: {}\n",
      "[-0.46440598 -0.00145233]\n",
      "action: 1\n",
      "observation: [-0.46629993 -0.00189395], reward: -1.0, done: False, info: {}\n",
      "[-0.46629993 -0.00189395]\n",
      "action: 0\n",
      "observation: [-0.46962151 -0.00332158], reward: -1.0, done: False, info: {}\n",
      "[-0.46962151 -0.00332158]\n",
      "action: 1\n",
      "observation: [-0.47334615 -0.00372464], reward: -1.0, done: False, info: {}\n",
      "[-0.47334615 -0.00372464]\n",
      "action: 1\n",
      "observation: [-0.47744626 -0.00410011], reward: -1.0, done: False, info: {}\n",
      "[-0.47744626 -0.00410011]\n",
      "action: 2\n",
      "observation: [-0.48089141 -0.00344515], reward: -1.0, done: False, info: {}\n",
      "[-0.48089141 -0.00344515]\n",
      "action: 0\n",
      "observation: [-0.48565598 -0.00476458], reward: -1.0, done: False, info: {}\n",
      "[-0.48565598 -0.00476458]\n",
      "action: 2\n",
      "observation: [-0.48970452 -0.00404853], reward: -1.0, done: False, info: {}\n",
      "[-0.48970452 -0.00404853]\n",
      "action: 0\n",
      "observation: [-0.49500682 -0.0053023 ], reward: -1.0, done: False, info: {}\n",
      "[-0.49500682 -0.0053023 ]\n",
      "action: 0\n",
      "observation: [-0.5015233  -0.00651648], reward: -1.0, done: False, info: {}\n"
     ]
    }
   ],
   "source": [
    "for i_episode in range(1):\n",
    "    observation = env.reset()\n",
    "    for t in range(10):\n",
    "        env.render()\n",
    "        print(observation)\n",
    "        action = env.action_space.sample()\n",
    "        print('action: {}'.format(action))\n",
    "        observation, reward, done, info = env.step(action)\n",
    "        print('observation: {}, reward: {}, done: {}, info: {}'.format(observation, reward, done, info))\n",
    "        if done:\n",
    "            print(\"Episode finished after {} timesteps\".format(t+1))\n",
    "            break"
   ]
  }
 ],
 "metadata": {
  "kernelspec": {
   "display_name": "Python 3",
   "language": "python",
   "name": "python3"
  },
  "language_info": {
   "codemirror_mode": {
    "name": "ipython",
    "version": 3
   },
   "file_extension": ".py",
   "mimetype": "text/x-python",
   "name": "python",
   "nbconvert_exporter": "python",
   "pygments_lexer": "ipython3",
   "version": "3.6.5"
  }
 },
 "nbformat": 4,
 "nbformat_minor": 2
}
